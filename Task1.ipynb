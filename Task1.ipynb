{
 "cells": [
  {
   "cell_type": "code",
   "execution_count": 1,
   "id": "initial_id",
   "metadata": {
    "collapsed": true,
    "ExecuteTime": {
     "end_time": "2023-10-06T20:06:14.533933Z",
     "start_time": "2023-10-06T20:06:14.155195Z"
    }
   },
   "outputs": [],
   "source": [
    "import cv2\n"
   ]
  },
  {
   "cell_type": "code",
   "execution_count": 2,
   "outputs": [
    {
     "name": "stderr",
     "output_type": "stream",
     "text": [
      "2023-10-06 18:19:08.671 Python[31241:1342904] WARNING: Secure coding is not enabled for restorable state! Enable secure coding by implementing NSApplicationDelegate.applicationSupportsSecureRestorableState: and returning YES.\n"
     ]
    }
   ],
   "source": [
    "import cv2\n",
    "\n",
    "# Load an image\n",
    "image = cv2.imread(\"4.1.03.tiff\")\n",
    "\n",
    "# Convert the image into a grayscale image\n",
    "gray_image = cv2.cvtColor(image, cv2.COLOR_BGR2GRAY)\n",
    "\n",
    "# Define window names\n",
    "original_window_name = 'Original Image'\n",
    "gray_window_name = 'Gray Image'\n",
    "\n",
    "# Show the original image\n",
    "cv2.imshow(original_window_name, image)\n",
    "\n",
    "# Show the gray image\n",
    "cv2.imshow(gray_window_name, gray_image)\n",
    "\n",
    "# Wait for a key press\n",
    "cv2.waitKey(0)\n",
    "\n",
    "# Destroy all open windows\n",
    "cv2.destroyAllWindows()"
   ],
   "metadata": {
    "collapsed": false,
    "ExecuteTime": {
     "end_time": "2023-10-06T22:19:32.205195Z",
     "start_time": "2023-10-06T22:19:08.417123Z"
    }
   },
   "id": "369e60e22073146c"
  },
  {
   "cell_type": "code",
   "execution_count": null,
   "outputs": [],
   "source": [],
   "metadata": {
    "collapsed": false
   },
   "id": "92f8fc306d9179f8"
  }
 ],
 "metadata": {
  "kernelspec": {
   "display_name": "Python 3",
   "language": "python",
   "name": "python3"
  },
  "language_info": {
   "codemirror_mode": {
    "name": "ipython",
    "version": 2
   },
   "file_extension": ".py",
   "mimetype": "text/x-python",
   "name": "python",
   "nbconvert_exporter": "python",
   "pygments_lexer": "ipython2",
   "version": "2.7.6"
  }
 },
 "nbformat": 4,
 "nbformat_minor": 5
}
